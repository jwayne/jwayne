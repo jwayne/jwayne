{
 "cells": [
  {
   "cell_type": "markdown",
   "metadata": {},
   "source": [
    "# Tensorflow Cheat Sheet\n",
    "\n",
    "These are my personal notes on Tensorflow.\n",
    "\n",
    "This is is meant to accompany: https://docs.google.com/document/d/1jYHE6D_dpxqzNETd7rHXtdJwklJxcIGp49RgAsSzaK0/edit?usp=sharing"
   ]
  },
  {
   "cell_type": "code",
   "execution_count": null,
   "metadata": {
    "collapsed": true
   },
   "outputs": [],
   "source": [
    "import tensorflow as tf"
   ]
  },
  {
   "cell_type": "markdown",
   "metadata": {},
   "source": [
    "## Basic Usage"
   ]
  },
  {
   "cell_type": "code",
   "execution_count": null,
   "metadata": {
    "collapsed": false
   },
   "outputs": [],
   "source": [
    "# What happens when you execute the same op twice - twice in different calls to\n",
    "# sess.run(), and twice in the same call to sess.run()?\n",
    "#\n",
    "# What actually gets returned from sess.run()? Do results persist past when the\n",
    "# session closes?\n",
    "#\n",
    "\n",
    "mat1 = tf.constant([[1]])\n",
    "mat2 = tf.constant([[2]])\n",
    "# Note that this message gets printed to the console running the Jupyter server,\n",
    "# rather than to the notebook...\n",
    "mat2 = tf.Print(mat2, [mat2], \"here\")\n",
    "mat3 = tf.constant([[3]])\n",
    "\n",
    "product1 = tf.matmul(mat1, mat2)\n",
    "product2 = tf.matmul(mat2, mat3)\n",
    "\n",
    "with tf.Session() as sess:\n",
    "    result1 = sess.run(product1)\n",
    "    result12 = sess.run([product1, product2])\n",
    "\n",
    "print repr(result1)\n",
    "print repr(result12)"
   ]
  },
  {
   "cell_type": "code",
   "execution_count": null,
   "metadata": {
    "collapsed": false
   },
   "outputs": [],
   "source": [
    "# What happens when you execute an op that uses a Variable, vs a Variable\n",
    "# assignment, vs an op that uses a Variable assignment?\n",
    "\n",
    "state = tf.Variable(0)\n",
    "state_plus_zero = tf.add(state, 0)\n",
    "state_plus_one = tf.add(state, 1)\n",
    "\n",
    "new_state = tf.assign(state, state_plus_one)\n",
    "new_state_plus_zero = tf.add(new_state, 0)\n",
    "new_state_plus_one = tf.add(new_state, 1)\n",
    "\n",
    "with tf.Session() as sess:\n",
    "    init_op = tf.global_variables_initializer()\n",
    "    sess.run(init_op)\n",
    "    \n",
    "    # Op that uses a Variable\n",
    "    print \"Old value:\", sess.run(state)    \n",
    "    print \"Executing state_plus_one\", sess.run(state_plus_one)    \n",
    "    print \"New value:\", sess.run(state)\n",
    "    print\n",
    "    \n",
    "    # Variable assignment\n",
    "    print \"Old value:\", sess.run(state)\n",
    "    print \"Executing new_state:\", sess.run(new_state)\n",
    "    print \"New value:\", sess.run(state)\n",
    "    print\n",
    "\n",
    "    # Op that uses a Variable assignment\n",
    "    print \"Old value:\", sess.run(state)\n",
    "    print \"Executing new_state_plus_zero:\", sess.run(new_state_plus_zero)\n",
    "    print \"New value:\", sess.run(state)\n",
    "    print\n",
    "    \n",
    "    # Op that uses a Variable assignment\n",
    "    print \"Old value:\", sess.run(state)\n",
    "    print \"Executing new_state_plus_one:\", sess.run(new_state_plus_one)\n",
    "    print \"New value:\", sess.run(state)\n",
    "    print"
   ]
  },
  {
   "cell_type": "code",
   "execution_count": null,
   "metadata": {
    "collapsed": true
   },
   "outputs": [],
   "source": []
  }
 ],
 "metadata": {
  "kernelspec": {
   "display_name": "Python 2",
   "language": "python",
   "name": "python2"
  },
  "language_info": {
   "codemirror_mode": {
    "name": "ipython",
    "version": 2
   },
   "file_extension": ".py",
   "mimetype": "text/x-python",
   "name": "python",
   "nbconvert_exporter": "python",
   "pygments_lexer": "ipython2",
   "version": "2.7.12"
  }
 },
 "nbformat": 4,
 "nbformat_minor": 2
}
